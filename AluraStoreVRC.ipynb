{
  "nbformat": 4,
  "nbformat_minor": 0,
  "metadata": {
    "colab": {
      "provenance": [],
      "include_colab_link": true
    },
    "kernelspec": {
      "name": "python3",
      "display_name": "Python 3"
    },
    "language_info": {
      "name": "python"
    }
  },
  "cells": [
    {
      "cell_type": "markdown",
      "metadata": {
        "id": "view-in-github",
        "colab_type": "text"
      },
      "source": [
        "<a href=\"https://colab.research.google.com/github/vinicius-rodrigues-cordeiro/Challenge-DataScience-AluraStore/blob/main/AluraStoreVRC.ipynb\" target=\"_parent\"><img src=\"https://colab.research.google.com/assets/colab-badge.svg\" alt=\"Open In Colab\"/></a>"
      ]
    },
    {
      "cell_type": "markdown",
      "source": [
        "### Importação dos dados\n",
        "\n"
      ],
      "metadata": {
        "id": "RhEdWd9YUR6H"
      }
    },
    {
      "cell_type": "code",
      "execution_count": 93,
      "metadata": {
        "colab": {
          "base_uri": "https://localhost:8080/",
          "height": 327
        },
        "id": "T3EvaeQ_INIL",
        "outputId": "997f3e9a-9555-4509-b58d-5e2af65c4fe5"
      },
      "outputs": [
        {
          "output_type": "execute_result",
          "data": {
            "text/plain": [
              "                 Produto Categoria do Produto    Preço      Frete  \\\n",
              "0     Assistente virtual          eletronicos   219.08   9.249790   \n",
              "1         Mesa de jantar               moveis   256.35  11.234305   \n",
              "2      Jogo de tabuleiro           brinquedos   279.51  21.262681   \n",
              "3            Micro-ondas     eletrodomesticos  1009.99  54.667344   \n",
              "4  Cadeira de escritório               moveis   446.99  26.964689   \n",
              "\n",
              "  Data da Compra        Vendedor Local da compra  Avaliação da compra  \\\n",
              "0     16/01/2021     Pedro Gomes              SP                    4   \n",
              "1     18/05/2022  Beatriz Moraes              RJ                    1   \n",
              "2     15/03/2021      João Souza              DF                    1   \n",
              "3     03/05/2022      João Souza              RS                    4   \n",
              "4     07/11/2020   Larissa Alves              MG                    5   \n",
              "\n",
              "  Tipo de pagamento  Quantidade de parcelas    lat    lon  \n",
              "0    cartao_credito                       8 -22.19 -48.79  \n",
              "1    cartao_credito                       4 -22.25 -42.66  \n",
              "2    cartao_credito                       1 -15.83 -47.86  \n",
              "3            boleto                       1 -30.17 -53.50  \n",
              "4            boleto                       1 -18.10 -44.38  "
            ],
            "text/html": [
              "\n",
              "  <div id=\"df-a9b3af7b-b183-47c4-9a1f-9097cf253dd1\" class=\"colab-df-container\">\n",
              "    <div>\n",
              "<style scoped>\n",
              "    .dataframe tbody tr th:only-of-type {\n",
              "        vertical-align: middle;\n",
              "    }\n",
              "\n",
              "    .dataframe tbody tr th {\n",
              "        vertical-align: top;\n",
              "    }\n",
              "\n",
              "    .dataframe thead th {\n",
              "        text-align: right;\n",
              "    }\n",
              "</style>\n",
              "<table border=\"1\" class=\"dataframe\">\n",
              "  <thead>\n",
              "    <tr style=\"text-align: right;\">\n",
              "      <th></th>\n",
              "      <th>Produto</th>\n",
              "      <th>Categoria do Produto</th>\n",
              "      <th>Preço</th>\n",
              "      <th>Frete</th>\n",
              "      <th>Data da Compra</th>\n",
              "      <th>Vendedor</th>\n",
              "      <th>Local da compra</th>\n",
              "      <th>Avaliação da compra</th>\n",
              "      <th>Tipo de pagamento</th>\n",
              "      <th>Quantidade de parcelas</th>\n",
              "      <th>lat</th>\n",
              "      <th>lon</th>\n",
              "    </tr>\n",
              "  </thead>\n",
              "  <tbody>\n",
              "    <tr>\n",
              "      <th>0</th>\n",
              "      <td>Assistente virtual</td>\n",
              "      <td>eletronicos</td>\n",
              "      <td>219.08</td>\n",
              "      <td>9.249790</td>\n",
              "      <td>16/01/2021</td>\n",
              "      <td>Pedro Gomes</td>\n",
              "      <td>SP</td>\n",
              "      <td>4</td>\n",
              "      <td>cartao_credito</td>\n",
              "      <td>8</td>\n",
              "      <td>-22.19</td>\n",
              "      <td>-48.79</td>\n",
              "    </tr>\n",
              "    <tr>\n",
              "      <th>1</th>\n",
              "      <td>Mesa de jantar</td>\n",
              "      <td>moveis</td>\n",
              "      <td>256.35</td>\n",
              "      <td>11.234305</td>\n",
              "      <td>18/05/2022</td>\n",
              "      <td>Beatriz Moraes</td>\n",
              "      <td>RJ</td>\n",
              "      <td>1</td>\n",
              "      <td>cartao_credito</td>\n",
              "      <td>4</td>\n",
              "      <td>-22.25</td>\n",
              "      <td>-42.66</td>\n",
              "    </tr>\n",
              "    <tr>\n",
              "      <th>2</th>\n",
              "      <td>Jogo de tabuleiro</td>\n",
              "      <td>brinquedos</td>\n",
              "      <td>279.51</td>\n",
              "      <td>21.262681</td>\n",
              "      <td>15/03/2021</td>\n",
              "      <td>João Souza</td>\n",
              "      <td>DF</td>\n",
              "      <td>1</td>\n",
              "      <td>cartao_credito</td>\n",
              "      <td>1</td>\n",
              "      <td>-15.83</td>\n",
              "      <td>-47.86</td>\n",
              "    </tr>\n",
              "    <tr>\n",
              "      <th>3</th>\n",
              "      <td>Micro-ondas</td>\n",
              "      <td>eletrodomesticos</td>\n",
              "      <td>1009.99</td>\n",
              "      <td>54.667344</td>\n",
              "      <td>03/05/2022</td>\n",
              "      <td>João Souza</td>\n",
              "      <td>RS</td>\n",
              "      <td>4</td>\n",
              "      <td>boleto</td>\n",
              "      <td>1</td>\n",
              "      <td>-30.17</td>\n",
              "      <td>-53.50</td>\n",
              "    </tr>\n",
              "    <tr>\n",
              "      <th>4</th>\n",
              "      <td>Cadeira de escritório</td>\n",
              "      <td>moveis</td>\n",
              "      <td>446.99</td>\n",
              "      <td>26.964689</td>\n",
              "      <td>07/11/2020</td>\n",
              "      <td>Larissa Alves</td>\n",
              "      <td>MG</td>\n",
              "      <td>5</td>\n",
              "      <td>boleto</td>\n",
              "      <td>1</td>\n",
              "      <td>-18.10</td>\n",
              "      <td>-44.38</td>\n",
              "    </tr>\n",
              "  </tbody>\n",
              "</table>\n",
              "</div>\n",
              "    <div class=\"colab-df-buttons\">\n",
              "\n",
              "  <div class=\"colab-df-container\">\n",
              "    <button class=\"colab-df-convert\" onclick=\"convertToInteractive('df-a9b3af7b-b183-47c4-9a1f-9097cf253dd1')\"\n",
              "            title=\"Convert this dataframe to an interactive table.\"\n",
              "            style=\"display:none;\">\n",
              "\n",
              "  <svg xmlns=\"http://www.w3.org/2000/svg\" height=\"24px\" viewBox=\"0 -960 960 960\">\n",
              "    <path d=\"M120-120v-720h720v720H120Zm60-500h600v-160H180v160Zm220 220h160v-160H400v160Zm0 220h160v-160H400v160ZM180-400h160v-160H180v160Zm440 0h160v-160H620v160ZM180-180h160v-160H180v160Zm440 0h160v-160H620v160Z\"/>\n",
              "  </svg>\n",
              "    </button>\n",
              "\n",
              "  <style>\n",
              "    .colab-df-container {\n",
              "      display:flex;\n",
              "      gap: 12px;\n",
              "    }\n",
              "\n",
              "    .colab-df-convert {\n",
              "      background-color: #E8F0FE;\n",
              "      border: none;\n",
              "      border-radius: 50%;\n",
              "      cursor: pointer;\n",
              "      display: none;\n",
              "      fill: #1967D2;\n",
              "      height: 32px;\n",
              "      padding: 0 0 0 0;\n",
              "      width: 32px;\n",
              "    }\n",
              "\n",
              "    .colab-df-convert:hover {\n",
              "      background-color: #E2EBFA;\n",
              "      box-shadow: 0px 1px 2px rgba(60, 64, 67, 0.3), 0px 1px 3px 1px rgba(60, 64, 67, 0.15);\n",
              "      fill: #174EA6;\n",
              "    }\n",
              "\n",
              "    .colab-df-buttons div {\n",
              "      margin-bottom: 4px;\n",
              "    }\n",
              "\n",
              "    [theme=dark] .colab-df-convert {\n",
              "      background-color: #3B4455;\n",
              "      fill: #D2E3FC;\n",
              "    }\n",
              "\n",
              "    [theme=dark] .colab-df-convert:hover {\n",
              "      background-color: #434B5C;\n",
              "      box-shadow: 0px 1px 3px 1px rgba(0, 0, 0, 0.15);\n",
              "      filter: drop-shadow(0px 1px 2px rgba(0, 0, 0, 0.3));\n",
              "      fill: #FFFFFF;\n",
              "    }\n",
              "  </style>\n",
              "\n",
              "    <script>\n",
              "      const buttonEl =\n",
              "        document.querySelector('#df-a9b3af7b-b183-47c4-9a1f-9097cf253dd1 button.colab-df-convert');\n",
              "      buttonEl.style.display =\n",
              "        google.colab.kernel.accessAllowed ? 'block' : 'none';\n",
              "\n",
              "      async function convertToInteractive(key) {\n",
              "        const element = document.querySelector('#df-a9b3af7b-b183-47c4-9a1f-9097cf253dd1');\n",
              "        const dataTable =\n",
              "          await google.colab.kernel.invokeFunction('convertToInteractive',\n",
              "                                                    [key], {});\n",
              "        if (!dataTable) return;\n",
              "\n",
              "        const docLinkHtml = 'Like what you see? Visit the ' +\n",
              "          '<a target=\"_blank\" href=https://colab.research.google.com/notebooks/data_table.ipynb>data table notebook</a>'\n",
              "          + ' to learn more about interactive tables.';\n",
              "        element.innerHTML = '';\n",
              "        dataTable['output_type'] = 'display_data';\n",
              "        await google.colab.output.renderOutput(dataTable, element);\n",
              "        const docLink = document.createElement('div');\n",
              "        docLink.innerHTML = docLinkHtml;\n",
              "        element.appendChild(docLink);\n",
              "      }\n",
              "    </script>\n",
              "  </div>\n",
              "\n",
              "\n",
              "    <div id=\"df-aa1f4245-cc52-4ebf-9264-d0ace5e1d854\">\n",
              "      <button class=\"colab-df-quickchart\" onclick=\"quickchart('df-aa1f4245-cc52-4ebf-9264-d0ace5e1d854')\"\n",
              "                title=\"Suggest charts\"\n",
              "                style=\"display:none;\">\n",
              "\n",
              "<svg xmlns=\"http://www.w3.org/2000/svg\" height=\"24px\"viewBox=\"0 0 24 24\"\n",
              "     width=\"24px\">\n",
              "    <g>\n",
              "        <path d=\"M19 3H5c-1.1 0-2 .9-2 2v14c0 1.1.9 2 2 2h14c1.1 0 2-.9 2-2V5c0-1.1-.9-2-2-2zM9 17H7v-7h2v7zm4 0h-2V7h2v10zm4 0h-2v-4h2v4z\"/>\n",
              "    </g>\n",
              "</svg>\n",
              "      </button>\n",
              "\n",
              "<style>\n",
              "  .colab-df-quickchart {\n",
              "      --bg-color: #E8F0FE;\n",
              "      --fill-color: #1967D2;\n",
              "      --hover-bg-color: #E2EBFA;\n",
              "      --hover-fill-color: #174EA6;\n",
              "      --disabled-fill-color: #AAA;\n",
              "      --disabled-bg-color: #DDD;\n",
              "  }\n",
              "\n",
              "  [theme=dark] .colab-df-quickchart {\n",
              "      --bg-color: #3B4455;\n",
              "      --fill-color: #D2E3FC;\n",
              "      --hover-bg-color: #434B5C;\n",
              "      --hover-fill-color: #FFFFFF;\n",
              "      --disabled-bg-color: #3B4455;\n",
              "      --disabled-fill-color: #666;\n",
              "  }\n",
              "\n",
              "  .colab-df-quickchart {\n",
              "    background-color: var(--bg-color);\n",
              "    border: none;\n",
              "    border-radius: 50%;\n",
              "    cursor: pointer;\n",
              "    display: none;\n",
              "    fill: var(--fill-color);\n",
              "    height: 32px;\n",
              "    padding: 0;\n",
              "    width: 32px;\n",
              "  }\n",
              "\n",
              "  .colab-df-quickchart:hover {\n",
              "    background-color: var(--hover-bg-color);\n",
              "    box-shadow: 0 1px 2px rgba(60, 64, 67, 0.3), 0 1px 3px 1px rgba(60, 64, 67, 0.15);\n",
              "    fill: var(--button-hover-fill-color);\n",
              "  }\n",
              "\n",
              "  .colab-df-quickchart-complete:disabled,\n",
              "  .colab-df-quickchart-complete:disabled:hover {\n",
              "    background-color: var(--disabled-bg-color);\n",
              "    fill: var(--disabled-fill-color);\n",
              "    box-shadow: none;\n",
              "  }\n",
              "\n",
              "  .colab-df-spinner {\n",
              "    border: 2px solid var(--fill-color);\n",
              "    border-color: transparent;\n",
              "    border-bottom-color: var(--fill-color);\n",
              "    animation:\n",
              "      spin 1s steps(1) infinite;\n",
              "  }\n",
              "\n",
              "  @keyframes spin {\n",
              "    0% {\n",
              "      border-color: transparent;\n",
              "      border-bottom-color: var(--fill-color);\n",
              "      border-left-color: var(--fill-color);\n",
              "    }\n",
              "    20% {\n",
              "      border-color: transparent;\n",
              "      border-left-color: var(--fill-color);\n",
              "      border-top-color: var(--fill-color);\n",
              "    }\n",
              "    30% {\n",
              "      border-color: transparent;\n",
              "      border-left-color: var(--fill-color);\n",
              "      border-top-color: var(--fill-color);\n",
              "      border-right-color: var(--fill-color);\n",
              "    }\n",
              "    40% {\n",
              "      border-color: transparent;\n",
              "      border-right-color: var(--fill-color);\n",
              "      border-top-color: var(--fill-color);\n",
              "    }\n",
              "    60% {\n",
              "      border-color: transparent;\n",
              "      border-right-color: var(--fill-color);\n",
              "    }\n",
              "    80% {\n",
              "      border-color: transparent;\n",
              "      border-right-color: var(--fill-color);\n",
              "      border-bottom-color: var(--fill-color);\n",
              "    }\n",
              "    90% {\n",
              "      border-color: transparent;\n",
              "      border-bottom-color: var(--fill-color);\n",
              "    }\n",
              "  }\n",
              "</style>\n",
              "\n",
              "      <script>\n",
              "        async function quickchart(key) {\n",
              "          const quickchartButtonEl =\n",
              "            document.querySelector('#' + key + ' button');\n",
              "          quickchartButtonEl.disabled = true;  // To prevent multiple clicks.\n",
              "          quickchartButtonEl.classList.add('colab-df-spinner');\n",
              "          try {\n",
              "            const charts = await google.colab.kernel.invokeFunction(\n",
              "                'suggestCharts', [key], {});\n",
              "          } catch (error) {\n",
              "            console.error('Error during call to suggestCharts:', error);\n",
              "          }\n",
              "          quickchartButtonEl.classList.remove('colab-df-spinner');\n",
              "          quickchartButtonEl.classList.add('colab-df-quickchart-complete');\n",
              "        }\n",
              "        (() => {\n",
              "          let quickchartButtonEl =\n",
              "            document.querySelector('#df-aa1f4245-cc52-4ebf-9264-d0ace5e1d854 button');\n",
              "          quickchartButtonEl.style.display =\n",
              "            google.colab.kernel.accessAllowed ? 'block' : 'none';\n",
              "        })();\n",
              "      </script>\n",
              "    </div>\n",
              "\n",
              "    </div>\n",
              "  </div>\n"
            ],
            "application/vnd.google.colaboratory.intrinsic+json": {
              "type": "dataframe",
              "variable_name": "loja",
              "summary": "{\n  \"name\": \"loja\",\n  \"rows\": 2359,\n  \"fields\": [\n    {\n      \"column\": \"Produto\",\n      \"properties\": {\n        \"dtype\": \"category\",\n        \"num_unique_values\": 51,\n        \"samples\": [\n          \"Viol\\u00e3o\",\n          \"Bola de basquete\",\n          \"Smartwatch\"\n        ],\n        \"semantic_type\": \"\",\n        \"description\": \"\"\n      }\n    },\n    {\n      \"column\": \"Categoria do Produto\",\n      \"properties\": {\n        \"dtype\": \"category\",\n        \"num_unique_values\": 8,\n        \"samples\": [\n          \"moveis\",\n          \"esporte e lazer\",\n          \"eletronicos\"\n        ],\n        \"semantic_type\": \"\",\n        \"description\": \"\"\n      }\n    },\n    {\n      \"column\": \"Pre\\u00e7o\",\n      \"properties\": {\n        \"dtype\": \"number\",\n        \"std\": 819.5827782539145,\n        \"min\": 10.07,\n        \"max\": 3969.38,\n        \"num_unique_values\": 2315,\n        \"samples\": [\n          446.11,\n          107.31,\n          65.86\n        ],\n        \"semantic_type\": \"\",\n        \"description\": \"\"\n      }\n    },\n    {\n      \"column\": \"Frete\",\n      \"properties\": {\n        \"dtype\": \"number\",\n        \"std\": 43.814183327408166,\n        \"min\": 0.0,\n        \"max\": 214.3770604781,\n        \"num_unique_values\": 2149,\n        \"samples\": [\n          83.815279607,\n          16.069664669,\n          14.0344876928\n        ],\n        \"semantic_type\": \"\",\n        \"description\": \"\"\n      }\n    },\n    {\n      \"column\": \"Data da Compra\",\n      \"properties\": {\n        \"dtype\": \"object\",\n        \"num_unique_values\": 1018,\n        \"samples\": [\n          \"15/09/2022\",\n          \"03/06/2020\",\n          \"06/11/2021\"\n        ],\n        \"semantic_type\": \"\",\n        \"description\": \"\"\n      }\n    },\n    {\n      \"column\": \"Vendedor\",\n      \"properties\": {\n        \"dtype\": \"category\",\n        \"num_unique_values\": 14,\n        \"samples\": [\n          \"Juliana Costa\",\n          \"Mariana Ferreira\",\n          \"Pedro Gomes\"\n        ],\n        \"semantic_type\": \"\",\n        \"description\": \"\"\n      }\n    },\n    {\n      \"column\": \"Local da compra\",\n      \"properties\": {\n        \"dtype\": \"category\",\n        \"num_unique_values\": 26,\n        \"samples\": [\n          \"TO\",\n          \"RN\",\n          \"SP\"\n        ],\n        \"semantic_type\": \"\",\n        \"description\": \"\"\n      }\n    },\n    {\n      \"column\": \"Avalia\\u00e7\\u00e3o da compra\",\n      \"properties\": {\n        \"dtype\": \"number\",\n        \"std\": 1,\n        \"min\": 1,\n        \"max\": 5,\n        \"num_unique_values\": 5,\n        \"samples\": [\n          1,\n          2,\n          5\n        ],\n        \"semantic_type\": \"\",\n        \"description\": \"\"\n      }\n    },\n    {\n      \"column\": \"Tipo de pagamento\",\n      \"properties\": {\n        \"dtype\": \"category\",\n        \"num_unique_values\": 4,\n        \"samples\": [\n          \"boleto\",\n          \"cartao_debito\",\n          \"cartao_credito\"\n        ],\n        \"semantic_type\": \"\",\n        \"description\": \"\"\n      }\n    },\n    {\n      \"column\": \"Quantidade de parcelas\",\n      \"properties\": {\n        \"dtype\": \"number\",\n        \"std\": 2,\n        \"min\": 1,\n        \"max\": 24,\n        \"num_unique_values\": 15,\n        \"samples\": [\n          7,\n          14,\n          8\n        ],\n        \"semantic_type\": \"\",\n        \"description\": \"\"\n      }\n    },\n    {\n      \"column\": \"lat\",\n      \"properties\": {\n        \"dtype\": \"number\",\n        \"std\": 5.372399916530833,\n        \"min\": -30.17,\n        \"max\": 1.41,\n        \"num_unique_values\": 26,\n        \"samples\": [\n          -9.46,\n          -5.81,\n          -22.19\n        ],\n        \"semantic_type\": \"\",\n        \"description\": \"\"\n      }\n    },\n    {\n      \"column\": \"lon\",\n      \"properties\": {\n        \"dtype\": \"number\",\n        \"std\": 4.183180020544179,\n        \"min\": -70.55,\n        \"max\": -36.59,\n        \"num_unique_values\": 26,\n        \"samples\": [\n          -48.26,\n          -36.59,\n          -48.79\n        ],\n        \"semantic_type\": \"\",\n        \"description\": \"\"\n      }\n    }\n  ]\n}"
            }
          },
          "metadata": {},
          "execution_count": 93
        }
      ],
      "source": [
        "import pandas as pd\n",
        "\n",
        "url = \"https://raw.githubusercontent.com/alura-es-cursos/challenge1-data-science/refs/heads/main/base-de-dados-challenge-1/loja_1.csv\"\n",
        "url2 = \"https://raw.githubusercontent.com/alura-es-cursos/challenge1-data-science/refs/heads/main/base-de-dados-challenge-1/loja_2.csv\"\n",
        "url3 = \"https://raw.githubusercontent.com/alura-es-cursos/challenge1-data-science/refs/heads/main/base-de-dados-challenge-1/loja_3.csv\"\n",
        "url4 = \"https://raw.githubusercontent.com/alura-es-cursos/challenge1-data-science/refs/heads/main/base-de-dados-challenge-1/loja_4.csv\"\n",
        "\n",
        "loja = pd.read_csv(url)\n",
        "loja2 = pd.read_csv(url2)\n",
        "loja3 = pd.read_csv(url3)\n",
        "loja4 = pd.read_csv(url4)\n",
        "\n",
        "loja.head()"
      ]
    },
    {
      "cell_type": "markdown",
      "source": [
        "#1. Análise do faturamento\n"
      ],
      "metadata": {
        "id": "X62IW3KFUIYm"
      }
    },
    {
      "cell_type": "code",
      "source": [
        "# Criar uma lista que guarde os valores da coluna preço\n",
        "faturamentoBruto1 = []\n",
        "# Usa laço de repetição, para percorrer todos os dados da coluna preço\n",
        "for preco in loja['Preço']:\n",
        "  faturamentoBruto1.append(preco)\n",
        "# Criar uma váriavel que receba a soma de todos os valores da lista, afim de obter o faturamento total\n",
        "fatura_loja1 = sum(faturamentoBruto1)\n",
        "# Exibir faturamento\n",
        "fatura_loja1"
      ],
      "metadata": {
        "id": "xykobSftV64I",
        "colab": {
          "base_uri": "https://localhost:8080/"
        },
        "outputId": "ba827324-9567-4f9a-dfd0-b1e4f1214e19"
      },
      "execution_count": 94,
      "outputs": [
        {
          "output_type": "execute_result",
          "data": {
            "text/plain": [
              "1534509.120000001"
            ]
          },
          "metadata": {},
          "execution_count": 94
        }
      ]
    },
    {
      "cell_type": "code",
      "source": [
        "# Criar uma lista que guarde os valores da coluna preço\n",
        "faturamentoBruto2 = []\n",
        "# Usa laço de repetição, para percorrer todos os dados da coluna preço\n",
        "for preco in loja2['Preço']:\n",
        "  faturamentoBruto2.append(preco)\n",
        "  # Criar uma váriavel que receba a soma de todos os valores da lista, afim de obter o faturamento total\n",
        "fatura_loja2 = sum(faturamentoBruto2)\n",
        "# Exibir faturamento\n",
        "fatura_loja2"
      ],
      "metadata": {
        "id": "KDyr8E71V3m-",
        "colab": {
          "base_uri": "https://localhost:8080/"
        },
        "outputId": "6b097533-e430-4625-c305-88e54a1cccc8"
      },
      "execution_count": 95,
      "outputs": [
        {
          "output_type": "execute_result",
          "data": {
            "text/plain": [
              "1488459.059999997"
            ]
          },
          "metadata": {},
          "execution_count": 95
        }
      ]
    },
    {
      "cell_type": "code",
      "source": [
        "# Criar uma lista que guarde os valores da coluna preço\n",
        "faturamentoBruto3 = []\n",
        "# Usa laço de repetição, para percorrer todos os dados da coluna preço\n",
        "for preco in loja3['Preço']:\n",
        "  faturamentoBruto3.append(preco)\n",
        "  # Criar uma váriavel que receba a soma de todos os valores da lista, afim de obter o faturamento total\n",
        "fatura_loja3 = sum(faturamentoBruto3)\n",
        "# Exibir faturamento\n",
        "fatura_loja3"
      ],
      "metadata": {
        "colab": {
          "base_uri": "https://localhost:8080/"
        },
        "id": "HHH3S6VwubyE",
        "outputId": "96cbf088-ea6f-4f67-a1fd-a2496a897a7d"
      },
      "execution_count": 96,
      "outputs": [
        {
          "output_type": "execute_result",
          "data": {
            "text/plain": [
              "1464025.0300000003"
            ]
          },
          "metadata": {},
          "execution_count": 96
        }
      ]
    },
    {
      "cell_type": "code",
      "source": [
        "# Criar uma lista que guarde os valores da coluna preço\n",
        "faturamentoBruto4 = []\n",
        "# Usa laço de repetição, para percorrer todos os dados da coluna preço\n",
        "for preco in loja4['Preço']:\n",
        "  faturamentoBruto4.append(preco)\n",
        "  # Criar uma váriavel que receba a soma de todos os valores da lista, afim de obter o faturamento total\n",
        "fatura_loja4 = sum(faturamentoBruto4)\n",
        "# Exibir faturamento\n",
        "fatura_loja4"
      ],
      "metadata": {
        "colab": {
          "base_uri": "https://localhost:8080/"
        },
        "id": "1MzmkpEvucK5",
        "outputId": "d5382753-65d4-43c5-8733-0b9bdf083acc"
      },
      "execution_count": 97,
      "outputs": [
        {
          "output_type": "execute_result",
          "data": {
            "text/plain": [
              "1384497.5800000026"
            ]
          },
          "metadata": {},
          "execution_count": 97
        }
      ]
    },
    {
      "cell_type": "code",
      "source": [
        "import matplotlib.pyplot as plt\n",
        "\n",
        "# Dados\n",
        "fatura_bruto = [fatura_loja1, fatura_loja2, fatura_loja3, fatura_loja4]\n",
        "empresas = ['Loja 1', 'Loja 2', 'Loja 3', 'Loja 4']\n",
        "cores = ['blue', 'green', 'red', 'yellow']\n",
        "\n",
        "# Loja com maior indicador\n",
        "maior_faturamento = max(fatura_bruto)\n",
        "indice_maior = fatura_bruto.index(maior_faturamento)\n",
        "print(f'A loja com maior faturamento é: {empresas[indice_maior]} ({maior_faturamento:.2f})')\n",
        "\n",
        "# Loja com menor indicador\n",
        "menor_faturamento = min(fatura_bruto)\n",
        "indice_menor = fatura_bruto.index(menor_faturamento)\n",
        "print(f'A loja com menor faturamento é: {empresas[indice_menor]} ({menor_faturamento:.2f})')\n",
        "\n",
        "# Criar gráficos ordenados para exibição de resultados\n",
        "\n",
        "fig, axs = plt.subplots(nrows=1, ncols=3, figsize=(18, 5))\n",
        "\n",
        "# Gráfico\n",
        "bars = axs[0].bar(empresas, fatura_bruto, color = cores)\n",
        "axs[0].set_title('Faturamento de João com suas lojas')\n",
        "axs[0].set_xlabel('Lojas')\n",
        "axs[0].set_ylabel('Faturamento')\n",
        "\n",
        "# Coloca valores acima de cada indíce referente a cada loja.\n",
        "for bar in bars:\n",
        "    altura = bar.get_height()\n",
        "    axs[0].text(bar.get_x() + bar.get_width() / 2, altura + 0.01 * max(fatura_bruto), f'{altura:.2f}', ha='center', va='bottom')\n",
        "\n",
        "# Gráfico\n",
        "barhs = axs[1].barh(empresas, fatura_bruto, color = cores)\n",
        "axs[1].set_title('Faturamento de João com suas lojas')\n",
        "axs[1].set_xlabel('Lojas')\n",
        "axs[1].set_ylabel('Faturamento')\n",
        "\n",
        "# Gráfico de pizza\n",
        "axs[2].pie(fatura_bruto, labels=empresas, colors=cores, autopct='%1.1f%%', startangle=90)\n",
        "axs[2].set_title('Participação das lojas no faturamento total de João')\n",
        "axs[2].axis('equal')  # Deixa o gráfico circular\n",
        "\n",
        "plt.tight_layout()\n",
        "plt.show()\n"
      ],
      "metadata": {
        "colab": {
          "base_uri": "https://localhost:8080/",
          "height": 353
        },
        "id": "JIrWIViUNCxI",
        "outputId": "1516ea40-6550-482c-a96b-b1af202e1109"
      },
      "execution_count": 98,
      "outputs": [
        {
          "output_type": "stream",
          "name": "stdout",
          "text": [
            "A loja com maior faturamento é: Loja 1 (1534509.12)\n",
            "A loja com menor faturamento é: Loja 4 (1384497.58)\n"
          ]
        },
        {
          "output_type": "display_data",
          "data": {
            "text/plain": [
              "<Figure size 1800x500 with 3 Axes>"
            ],
            "image/png": "[encoded data removed]"
          },
          "metadata": {}
        }
      ]
    },
    {
      "cell_type": "markdown",
      "source": [
        "# 2. Vendas por Categoria\n"
      ],
      "metadata": {
        "id": "2V_vcAPzWZmR"
      }
    },
    {
      "cell_type": "code",
      "source": [
        "# Criar uma variável que receba o nome de cada categoria junto com o valor de vendas total referente a cada uma, gerando um dicionário.\n",
        "vendas_por_categoria_loja1 = loja['Categoria do Produto'].value_counts().to_dict()\n",
        "# Exibir resultado\n",
        "print(vendas_por_categoria_loja1)\n",
        "# Criar lista que receberá os valores de cada categoria.\n",
        "vendas_total1 = []\n",
        "# Laço de repetição para iterar sobre cada item e pegar apenas oa valores.\n",
        "for categoria in vendas_por_categoria_loja1:\n",
        "  vendas_total1.append(vendas_por_categoria_loja1[categoria])\n",
        "# Exibir valores agrupados\n",
        "vendas_total1"
      ],
      "metadata": {
        "colab": {
          "base_uri": "https://localhost:8080/"
        },
        "id": "oLnE43nPJZRX",
        "outputId": "e0c763c6-8bee-4d48-d23b-40b51b4f26c2"
      },
      "execution_count": 99,
      "outputs": [
        {
          "output_type": "stream",
          "name": "stdout",
          "text": [
            "{'moveis': 465, 'eletronicos': 448, 'brinquedos': 324, 'eletrodomesticos': 312, 'esporte e lazer': 284, 'instrumentos musicais': 182, 'livros': 173, 'utilidades domesticas': 171}\n"
          ]
        },
        {
          "output_type": "execute_result",
          "data": {
            "text/plain": [
              "[465, 448, 324, 312, 284, 182, 173, 171]"
            ]
          },
          "metadata": {},
          "execution_count": 99
        }
      ]
    },
    {
      "cell_type": "code",
      "source": [
        "# Criar uma variável que receba o nome de cada categoria junto com o valor de vendas total referente a cada uma, gerando um dicionário.\n",
        "vendas_por_categoria_loja2 = loja2['Categoria do Produto'].value_counts().to_dict()\n",
        "# Exibir resultado\n",
        "print(vendas_por_categoria_loja2)\n",
        "# Criar lista que receberá os valores de cada categoria.\n",
        "vendas_total2 = []\n",
        "# Laço de repetição para iterar sobre cada item e pegar apenas oa valores.\n",
        "for categoria in vendas_por_categoria_loja2:\n",
        "  vendas_total2.append(vendas_por_categoria_loja2[categoria])\n",
        "# Exibir valores agrupados\n",
        "vendas_total2"
      ],
      "metadata": {
        "colab": {
          "base_uri": "https://localhost:8080/"
        },
        "id": "uz0DlvkdG_ny",
        "outputId": "de071e23-e3fd-4d48-9e79-214793cbbb70"
      },
      "execution_count": 100,
      "outputs": [
        {
          "output_type": "stream",
          "name": "stdout",
          "text": [
            "{'moveis': 442, 'eletronicos': 422, 'brinquedos': 313, 'eletrodomesticos': 305, 'esporte e lazer': 275, 'instrumentos musicais': 224, 'livros': 197, 'utilidades domesticas': 181}\n"
          ]
        },
        {
          "output_type": "execute_result",
          "data": {
            "text/plain": [
              "[442, 422, 313, 305, 275, 224, 197, 181]"
            ]
          },
          "metadata": {},
          "execution_count": 100
        }
      ]
    },
    {
      "cell_type": "code",
      "source": [
        "# Criar uma variável que receba o nome de cada categoria junto com o valor de vendas total referente a cada uma, gerando um dicionário.\n",
        "vendas_por_categoria_loja3 = loja3['Categoria do Produto'].value_counts().to_dict()\n",
        "# Exibir resultado\n",
        "print(vendas_por_categoria_loja3)\n",
        "# Criar lista que receberá os valores de cada categoria.\n",
        "vendas_total3 = []\n",
        "# Laço de repetição para iterar sobre cada item e pegar apenas oa valores.\n",
        "for categoria in vendas_por_categoria_loja3:\n",
        "  vendas_total3.append(vendas_por_categoria_loja3[categoria])\n",
        "# Exibir valores agrupados\n",
        "vendas_total3"
      ],
      "metadata": {
        "colab": {
          "base_uri": "https://localhost:8080/"
        },
        "id": "VtK_HYFAkUSR",
        "outputId": "fe538fc0-ab9f-42d7-8e81-5d0f6e0b40ad"
      },
      "execution_count": 101,
      "outputs": [
        {
          "output_type": "stream",
          "name": "stdout",
          "text": [
            "{'moveis': 499, 'eletronicos': 451, 'brinquedos': 315, 'eletrodomesticos': 278, 'esporte e lazer': 277, 'livros': 185, 'instrumentos musicais': 177, 'utilidades domesticas': 177}\n"
          ]
        },
        {
          "output_type": "execute_result",
          "data": {
            "text/plain": [
              "[499, 451, 315, 278, 277, 185, 177, 177]"
            ]
          },
          "metadata": {},
          "execution_count": 101
        }
      ]
    },
    {
      "cell_type": "code",
      "source": [
        "# Criar uma variável que receba o nome de cada categoria junto com o valor de vendas total referente a cada uma, gerando um dicionário.\n",
        "vendas_por_categoria_loja4 = loja4['Categoria do Produto'].value_counts().to_dict()\n",
        "# Exibir resultado\n",
        "print(vendas_por_categoria_loja4)\n",
        "# Criar lista que receberá os valores de cada categoria.\n",
        "vendas_total4 = []\n",
        "# Laço de repetição para iterar sobre cada item e pegar apenas oa valores.\n",
        "for categoria in vendas_por_categoria_loja4:\n",
        "  vendas_total4.append(vendas_por_categoria_loja4[categoria])\n",
        "# Exibir valores agrupados\n",
        "vendas_total4"
      ],
      "metadata": {
        "colab": {
          "base_uri": "https://localhost:8080/"
        },
        "id": "mvSXUodElRVf",
        "outputId": "2f841e8a-2db4-4979-f2bb-786440efddbf"
      },
      "execution_count": 102,
      "outputs": [
        {
          "output_type": "stream",
          "name": "stdout",
          "text": [
            "{'moveis': 480, 'eletronicos': 451, 'brinquedos': 338, 'esporte e lazer': 277, 'eletrodomesticos': 254, 'utilidades domesticas': 201, 'livros': 187, 'instrumentos musicais': 170}\n"
          ]
        },
        {
          "output_type": "execute_result",
          "data": {
            "text/plain": [
              "[480, 451, 338, 277, 254, 201, 187, 170]"
            ]
          },
          "metadata": {},
          "execution_count": 102
        }
      ]
    },
    {
      "cell_type": "markdown",
      "source": [
        "# 3. Média de Avaliação das Lojas"
      ],
      "metadata": {
        "id": "Rq6tU_xSY3jk"
      }
    },
    {
      "cell_type": "code",
      "source": [
        "# Criar uma lista e com o laço de repetição, iterar sobre as colunas Categoria e Avaliação, e mesclar item a nivel de satisfação.\n",
        "satisfacao = []\n",
        "for categoria, nota in zip(loja['Categoria do Produto'], loja['Avaliação da compra']):\n",
        "    satisfacao.extend([categoria, nota])\n",
        "\n",
        "# Criar lista com todas as categorias\n",
        "categorias = ['eletrodomesticos', 'moveis', 'esporte e lazer', 'livros', 'eletronicos',\n",
        "              'instrumentos musicais', 'brinquedos', 'utilidades domesticas']\n",
        "\n",
        "# Criar uma lista com avaliação, iterar com o laço de repetição que analisa as listas satisfacao e categorias, criando um dicionário onde os valores estejam dentro da chave que é a categoria referente.\n",
        "avaliacao = {}\n",
        "\n",
        "for i in range(0, len(satisfacao), 2):\n",
        "    categoria = satisfacao[i]\n",
        "    nota = satisfacao[i + 1]\n",
        "    if categoria in categorias:\n",
        "        if categoria in avaliacao:\n",
        "            avaliacao[categoria].append(float(nota))\n",
        "        else:\n",
        "            avaliacao[categoria] = [float(nota)]\n",
        "\n",
        "\n",
        "# Laço de repetição para iterar sobre valores de cada chave, somando e divindo pelo total de itens, recebendo a média.\n",
        "media_por_categoria = {}\n",
        "for categoria in avaliacao:\n",
        "    media_por_categoria[categoria] = sum(avaliacao[categoria]) / len(avaliacao[categoria])\n",
        "\n",
        "# Criar uma variável acumuladora\n",
        "media_da_loja1 = 0\n",
        "\n",
        "# Laço de repetição para iterar sobre os valores de satisfação e dividir pelo total de itens, para obter a média.\n",
        "for categoria in media_por_categoria:\n",
        "  media_da_loja1 += media_por_categoria[categoria]/len(media_por_categoria)\n",
        "\n",
        "# Exibir resultado\n",
        "media_da_loja1"
      ],
      "metadata": {
        "id": "bh3jjjJwY5MU",
        "colab": {
          "base_uri": "https://localhost:8080/"
        },
        "outputId": "d757bac3-e955-400d-8270-553019bed985"
      },
      "execution_count": 103,
      "outputs": [
        {
          "output_type": "execute_result",
          "data": {
            "text/plain": [
              "3.9665833898174245"
            ]
          },
          "metadata": {},
          "execution_count": 103
        }
      ]
    },
    {
      "cell_type": "code",
      "source": [
        "# Criar uma lista e com o laço de repetição, iterar sobre as colunas Categoria e Avaliação, e mesclar item a nivel de satisfação.\n",
        "satisfacao = []\n",
        "for categoria, nota in zip(loja2['Categoria do Produto'], loja2['Avaliação da compra']):\n",
        "    satisfacao.extend([categoria, nota])\n",
        "\n",
        "# Criar lista com todas as categorias\n",
        "categorias = ['eletrodomesticos', 'moveis', 'esporte e lazer', 'livros', 'eletronicos',\n",
        "              'instrumentos musicais', 'brinquedos', 'utilidades domesticas']\n",
        "\n",
        "# Criar uma lista com avaliação, iterar com o laço de repetição que analisa as listas satisfacao e categorias, criando um dicionário onde os valores estejam dentro da chave que é a categoria referente.\n",
        "avaliacao = {}\n",
        "for i in range(0, len(satisfacao), 2):\n",
        "    categoria = satisfacao[i]\n",
        "    nota = satisfacao[i + 1]\n",
        "    if categoria in categorias:\n",
        "        if categoria in avaliacao:\n",
        "            avaliacao[categoria].append(float(nota))\n",
        "        else:\n",
        "            avaliacao[categoria] = [float(nota)]\n",
        "\n",
        "# Laço de repetição para iterar sobre valores de cada chave, somando e divindo pelo total de itens, recebendo a média.\n",
        "media_por_categoria = {}\n",
        "for categoria in avaliacao:\n",
        "    media_por_categoria[categoria] = sum(avaliacao[categoria]) / len(avaliacao[categoria])\n",
        "\n",
        "# Criar uma variável acumuladora\n",
        "media_da_loja2 = 0\n",
        "\n",
        "# Laço de repetição para iterar sobre os valores de satisfação e dividir pelo total de itens, para obter a média.\n",
        "for categoria in media_por_categoria:\n",
        "  media_da_loja2 += media_por_categoria[categoria]/len(media_por_categoria)\n",
        "\n",
        "# Exibir resultado\n",
        "media_da_loja2"
      ],
      "metadata": {
        "colab": {
          "base_uri": "https://localhost:8080/"
        },
        "id": "pRFgD0jjWY3s",
        "outputId": "7c063abd-09a6-44fc-d7d2-34d937321116"
      },
      "execution_count": 104,
      "outputs": [
        {
          "output_type": "execute_result",
          "data": {
            "text/plain": [
              "4.035530628659918"
            ]
          },
          "metadata": {},
          "execution_count": 104
        }
      ]
    },
    {
      "cell_type": "code",
      "source": [
        "# Criar uma lista e com o laço de repetição, iterar sobre as colunas Categoria e Avaliação, e mesclar item a nivel de satisfação.\n",
        "satisfacao = []\n",
        "for categoria, nota in zip(loja3['Categoria do Produto'], loja3['Avaliação da compra']):\n",
        "    satisfacao.extend([categoria, nota])\n",
        "\n",
        "# Criar lista com todas as categorias\n",
        "categorias = ['eletrodomesticos', 'moveis', 'esporte e lazer', 'livros', 'eletronicos',\n",
        "              'instrumentos musicais', 'brinquedos', 'utilidades domesticas']\n",
        "\n",
        "# Criar uma lista com avaliação, iterar com o laço de repetição que analisa as listas satisfacao e categorias, criando um dicionário onde os valores estejam dentro da chave que é a categoria referente.\n",
        "avaliacao = {}\n",
        "for i in range(0, len(satisfacao), 2):\n",
        "    categoria = satisfacao[i]\n",
        "    nota = satisfacao[i + 1]\n",
        "    if categoria in categorias:\n",
        "        if categoria in avaliacao:\n",
        "            avaliacao[categoria].append(float(nota))\n",
        "        else:\n",
        "            avaliacao[categoria] = [float(nota)]\n",
        "\n",
        "# Laço de repetição para iterar sobre valores de cada chave, somando e divindo pelo total de itens, recebendo a média.\n",
        "media_por_categoria = {}\n",
        "for categoria in avaliacao:\n",
        "    media_por_categoria[categoria] = sum(avaliacao[categoria]) / len(avaliacao[categoria])\n",
        "\n",
        "# Criar uma variável acumuladora\n",
        "media_da_loja3 = 0\n",
        "\n",
        "# Laço de repetição para iterar sobre os valores de satisfação e dividir pelo total de itens, para obter a média.\n",
        "for categoria in media_por_categoria:\n",
        "  media_da_loja3 += media_por_categoria[categoria]/len(media_por_categoria)\n",
        "\n",
        "# Exibir resultado\n",
        "media_da_loja3"
      ],
      "metadata": {
        "id": "I0KkjPoTY88F",
        "colab": {
          "base_uri": "https://localhost:8080/"
        },
        "outputId": "30e8387d-d5b6-4aae-94bb-9502c05f0029"
      },
      "execution_count": 105,
      "outputs": [
        {
          "output_type": "execute_result",
          "data": {
            "text/plain": [
              "4.044860279975908"
            ]
          },
          "metadata": {},
          "execution_count": 105
        }
      ]
    },
    {
      "cell_type": "code",
      "source": [
        "# Criar uma lista e com o laço de repetição, iterar sobre as colunas Categoria e Avaliação, e mesclar item a nivel de satisfação.\n",
        "satisfacao = []\n",
        "for categoria, nota in zip(loja4['Categoria do Produto'], loja4['Avaliação da compra']):\n",
        "    satisfacao.extend([categoria, nota])\n",
        "\n",
        "# Criar lista com todas as categorias\n",
        "categorias = ['eletrodomesticos', 'moveis', 'esporte e lazer', 'livros', 'eletronicos',\n",
        "              'instrumentos musicais', 'brinquedos', 'utilidades domesticas']\n",
        "\n",
        "# Criar uma lista com avaliação, iterar com o laço de repetição que analisa as listas satisfacao e categorias, criando um dicionário onde os valores estejam dentro da chave que é a categoria referente.\n",
        "avaliacao = {}\n",
        "for i in range(0, len(satisfacao), 2):\n",
        "    categoria = satisfacao[i]\n",
        "    nota = satisfacao[i + 1]\n",
        "    if categoria in categorias:\n",
        "        if categoria in avaliacao:\n",
        "            avaliacao[categoria].append(float(nota))\n",
        "        else:\n",
        "            avaliacao[categoria] = [float(nota)]\n",
        "\n",
        "# Laço de repetição para iterar sobre valores de cada chave, somando e divindo pelo total de itens, recebendo a média.\n",
        "media_por_categoria = {}\n",
        "for categoria in avaliacao:\n",
        "    media_por_categoria[categoria] = sum(avaliacao[categoria]) / len(avaliacao[categoria])\n",
        "\n",
        "# Criar uma variável acumuladora\n",
        "media_da_loja4 = 0\n",
        "\n",
        "# Laço de repetição para iterar sobre os valores de satisfação e dividir pelo total de itens, para obter a média.\n",
        "for categoria in media_por_categoria:\n",
        "  media_da_loja4 += media_por_categoria[categoria]/len(media_por_categoria)\n",
        "\n",
        "# Exibir resultado\n",
        "media_da_loja4"
      ],
      "metadata": {
        "colab": {
          "base_uri": "https://localhost:8080/"
        },
        "id": "itG45whY7wC1",
        "outputId": "4fc1155d-16e1-41cc-f4b7-6415cf9143e3"
      },
      "execution_count": 106,
      "outputs": [
        {
          "output_type": "execute_result",
          "data": {
            "text/plain": [
              "3.992564427244854"
            ]
          },
          "metadata": {},
          "execution_count": 106
        }
      ]
    },
    {
      "cell_type": "code",
      "source": [
        "# Dados\n",
        "m_s_lojas = [media_da_loja1, media_da_loja2, media_da_loja3, media_da_loja4]\n",
        "nivel_satisfacao_lojas = [round(media, 2) for media in m_s_lojas]\n",
        "empresas = ['Loja 1', 'Loja 2', 'Loja 3', 'Loja 4']\n",
        "cores = ['blue', 'green', 'red', 'yellow']\n",
        "\n",
        "# Loja com maior indicador\n",
        "maior_satisfacao = max(nivel_satisfacao_lojas)\n",
        "indice_maior = nivel_satisfacao_lojas.index(maior_satisfacao)\n",
        "print(f'A loja com maior avaliação é: {empresas[indice_maior]} ({maior_satisfacao:.2f})')\n",
        "\n",
        "# Loja com menor indicador\n",
        "menor_satisfacao = min(nivel_satisfacao_lojas)\n",
        "indice_menor = nivel_satisfacao_lojas.index(menor_satisfacao)\n",
        "print(f'A loja com menor avaliação é: {empresas[indice_menor]} ({menor_satisfacao:.2f})')\n",
        "\n",
        "# Criar gráficos ordenados para exibição de resultados\n",
        "\n",
        "fig, axs = plt.subplots(nrows=1, ncols=3, figsize=(18, 5))\n",
        "\n",
        "# Gráfico\n",
        "axs[0].bar(empresas, nivel_satisfacao_lojas, color=cores)\n",
        "axs[0].set_title('Média de avaliação das lojas')\n",
        "axs[0].set_xlabel('Lojas')\n",
        "axs[0].set_ylabel('Média de avaliação')\n",
        "\n",
        "# Gráfico\n",
        "axs[1].barh(empresas, nivel_satisfacao_lojas, color=cores)\n",
        "axs[1].set_title('Média de avaliação das lojas')\n",
        "axs[1].set_xlabel('Média de avaliação')\n",
        "axs[1].set_ylabel('Lojas')\n",
        "\n",
        "# Gráfico\n",
        "axs[2].pie(nivel_satisfacao_lojas, labels=empresas, colors=cores, autopct='%1.1f%%', startangle=90)\n",
        "axs[2].set_title('Participação da média de avaliação das lojas')\n",
        "axs[2].axis('equal')\n",
        "\n",
        "plt.tight_layout()\n",
        "plt.show()"
      ],
      "metadata": {
        "colab": {
          "base_uri": "https://localhost:8080/",
          "height": 353
        },
        "id": "d7YZ0ZOF87-c",
        "outputId": "782aa940-446b-4ec9-f6fe-dd8e885407fb"
      },
      "execution_count": 107,
      "outputs": [
        {
          "output_type": "stream",
          "name": "stdout",
          "text": [
            "A loja com maior avaliação é: Loja 2 (4.04)\n",
            "A loja com menor avaliação é: Loja 1 (3.97)\n"
          ]
        },
        {
          "output_type": "display_data",
          "data": {
            "text/plain": [
              "<Figure size 1800x500 with 3 Axes>"
            ],
            "image/png": "[encoded data removed]"
          },
          "metadata": {}
        }
      ]
    },
    {
      "cell_type": "markdown",
      "source": [
        "# 4. Produtos Mais e Menos Vendidos"
      ],
      "metadata": {
        "id": "DmNp1KPBZCm-"
      }
    },
    {
      "cell_type": "code",
      "source": [
        "# Criar uma variável lista\n",
        "tipo_de_produtos = []\n",
        "# Laço de repetião para iterar pela coluna Produto e adicionar cada item a lista.\n",
        "for produto in loja['Produto']:\n",
        "  if produto not in tipo_de_produtos:\n",
        "    tipo_de_produtos.append(produto)\n",
        "\n",
        "# Criar uma variável dicionário\n",
        "produtos_vendidos = {}\n",
        "# Laço de repetição para iterar sobre os tipos de produtos e de acordo com o tipo, trazer o valor total de vendas por produto.\n",
        "for produto in range(len(tipo_de_produtos)):\n",
        "  for i in range(len(loja['Produto'])):\n",
        "    if tipo_de_produtos[produto] == loja['Produto'][i]:\n",
        "      produtos_vendidos[tipo_de_produtos[produto]] = produtos_vendidos.get(tipo_de_produtos[produto], 0) + 1\n",
        "\n",
        "# Para ordenar de forma simples, transforma dicionário em lista\n",
        "lista_produtos = list(produtos_vendidos.items())\n",
        "n = len(lista_produtos)\n",
        "# Ordenação pelo algoritmo BubbleSort\n",
        "for i in range(n):\n",
        "  for j in range(0, n - i - 1):\n",
        "    if lista_produtos[j][1] < lista_produtos[j + 1][1]:\n",
        "      lista_produtos[j], lista_produtos[j + 1] = lista_produtos[j + 1], lista_produtos[j]\n",
        "\n",
        "# Exibir resultado\n",
        "print('Prudutos vendidos pela loja 1 em ordem crescente:')\n",
        "lista_produtos"
      ],
      "metadata": {
        "id": "qoyjqijQZHfF",
        "colab": {
          "base_uri": "https://localhost:8080/"
        },
        "outputId": "4e38aa79-df73-4bf6-b622-f87e3a719f3e"
      },
      "execution_count": 108,
      "outputs": [
        {
          "output_type": "stream",
          "name": "stdout",
          "text": [
            "Prudutos vendidos pela loja 1 em ordem crescente:\n"
          ]
        },
        {
          "output_type": "execute_result",
          "data": {
            "text/plain": [
              "[('Micro-ondas', 60),\n",
              " ('TV Led UHD 4K', 60),\n",
              " ('Guarda roupas', 60),\n",
              " ('Secadora de roupas', 58),\n",
              " ('Blocos de montar', 56),\n",
              " ('Cômoda', 56),\n",
              " ('Bola de basquete', 55),\n",
              " ('Geladeira', 54),\n",
              " ('Bicicleta', 54),\n",
              " ('Copo térmico', 54),\n",
              " ('Impressora', 54),\n",
              " ('Bateria', 53),\n",
              " ('Carrinho controle remoto', 52),\n",
              " ('Faqueiro', 52),\n",
              " ('Modelagem preditiva', 51),\n",
              " ('Fone de ouvido', 50),\n",
              " ('Xadrez de madeira', 49),\n",
              " ('Celular Plus X42', 49),\n",
              " ('Lava louças', 48),\n",
              " ('Lavadora de roupas', 47),\n",
              " ('Guitarra', 47),\n",
              " ('Cadeira de escritório', 46),\n",
              " ('Sofá retrátil', 46),\n",
              " ('Violão', 46),\n",
              " ('Fogão', 45),\n",
              " ('Kit banquetas', 44),\n",
              " ('Cama box', 44),\n",
              " ('Cubo mágico 8x8', 44),\n",
              " ('Mesa de centro', 44),\n",
              " ('Cama king', 44),\n",
              " ('Smart TV', 44),\n",
              " ('Jogo de tabuleiro', 43),\n",
              " ('Jogo de panelas', 43),\n",
              " ('Smartwatch', 43),\n",
              " ('Bola de vôlei', 42),\n",
              " ('Dashboards com Power BI', 42),\n",
              " ('Tablet ABXY', 42),\n",
              " ('Jogo de copos', 41),\n",
              " ('Poltrona', 41),\n",
              " ('Iniciando em programação', 41),\n",
              " ('Assistente virtual', 40),\n",
              " ('Mesa de jantar', 40),\n",
              " ('Boneca bebê', 40),\n",
              " ('Corda de pular', 40),\n",
              " ('Dinossauro Rex', 40),\n",
              " ('Ciência de dados com python', 39),\n",
              " ('Mochila', 39),\n",
              " ('Pandeiro', 36),\n",
              " ('Panela de pressão', 35),\n",
              " ('Headset', 33),\n",
              " ('Celular ABXY', 33)]"
            ]
          },
          "metadata": {},
          "execution_count": 108
        }
      ]
    },
    {
      "cell_type": "code",
      "source": [
        "# Criar uma variável lista\n",
        "tipo_de_produtos = []\n",
        "# Laço de repetião para iterar pela coluna Produto e adicionar cada item a lista.\n",
        "for produto in loja2['Produto']:\n",
        "  if produto not in tipo_de_produtos:\n",
        "    tipo_de_produtos.append(produto)\n",
        "\n",
        "# Criar uma variável dicionário\n",
        "produtos_vendidos2 = {}\n",
        "# Laço de repetição para iterar sobre os tipos de produtos e de acordo com o tipo, trazer o valor total de vendas por produto.\n",
        "for produto in range(len(tipo_de_produtos)):\n",
        "  for i in range(len(loja2['Produto'])):\n",
        "    if tipo_de_produtos[produto] == loja2['Produto'][i]:\n",
        "      produtos_vendidos2[tipo_de_produtos[produto]] = produtos_vendidos2.get(tipo_de_produtos[produto], 0) + 1\n",
        "\n",
        "# Para ordenar de forma simples, transforma dicionário em lista\n",
        "lista_produtos2 = list(produtos_vendidos2.items())\n",
        "n = len(lista_produtos2)\n",
        "# Ordenação pelo algoritmo BubbleSort\n",
        "for i in range(n):\n",
        "  for j in range(0, n - i - 1):\n",
        "    if lista_produtos2[j][1] < lista_produtos2[j + 1][1]:\n",
        "      lista_produtos2[j], lista_produtos2[j + 1] = lista_produtos2[j + 1], lista_produtos2[j]\n",
        "\n",
        "# Exibir resultado\n",
        "print('Prudutos vendidos pela loja 2 em ordem crescente:')\n",
        "lista_produtos2"
      ],
      "metadata": {
        "id": "0Sw3sd4IZIGW",
        "colab": {
          "base_uri": "https://localhost:8080/"
        },
        "outputId": "a5043fbf-8a7a-4919-9dd4-fa6fd95f3605"
      },
      "execution_count": 109,
      "outputs": [
        {
          "output_type": "stream",
          "name": "stdout",
          "text": [
            "Prudutos vendidos pela loja 2 em ordem crescente:\n"
          ]
        },
        {
          "output_type": "execute_result",
          "data": {
            "text/plain": [
              "[('Iniciando em programação', 65),\n",
              " ('Micro-ondas', 62),\n",
              " ('Bateria', 61),\n",
              " ('Pandeiro', 58),\n",
              " ('Violão', 58),\n",
              " ('Secadora de roupas', 57),\n",
              " ('Celular Plus X42', 55),\n",
              " ('Blocos de montar', 54),\n",
              " ('Guarda roupas', 54),\n",
              " ('Jogo de panelas', 52),\n",
              " ('Corda de pular', 50),\n",
              " ('Cadeira de escritório', 49),\n",
              " ('Geladeira', 49),\n",
              " ('Lavadora de roupas', 49),\n",
              " ('Boneca bebê', 48),\n",
              " ('Copo térmico', 47),\n",
              " ('Guitarra', 47),\n",
              " ('Cama box', 47),\n",
              " ('Carrinho controle remoto', 47),\n",
              " ('Modelagem preditiva', 46),\n",
              " ('Jogo de copos', 46),\n",
              " ('Lava louças', 46),\n",
              " ('Bola de vôlei', 46),\n",
              " ('Cama king', 45),\n",
              " ('Mochila', 45),\n",
              " ('Cubo mágico 8x8', 45),\n",
              " ('Xadrez de madeira', 45),\n",
              " ('Bicicleta', 45),\n",
              " ('TV Led UHD 4K', 45),\n",
              " ('Mesa de centro', 45),\n",
              " ('Kit banquetas', 45),\n",
              " ('Tablet ABXY', 44),\n",
              " ('Panela de pressão', 44),\n",
              " ('Headset', 44),\n",
              " ('Sofá retrátil', 44),\n",
              " ('Smartwatch', 44),\n",
              " ('Cômoda', 44),\n",
              " ('Dashboards com Power BI', 43),\n",
              " ('Ciência de dados com python', 43),\n",
              " ('Fogão', 42),\n",
              " ('Dinossauro Rex', 42),\n",
              " ('Bola de basquete', 42),\n",
              " ('Celular ABXY', 41),\n",
              " ('Smart TV', 40),\n",
              " ('Faqueiro', 39),\n",
              " ('Assistente virtual', 38),\n",
              " ('Fone de ouvido', 37),\n",
              " ('Poltrona', 35),\n",
              " ('Mesa de jantar', 34),\n",
              " ('Impressora', 34),\n",
              " ('Jogo de tabuleiro', 32)]"
            ]
          },
          "metadata": {},
          "execution_count": 109
        }
      ]
    },
    {
      "cell_type": "code",
      "source": [
        "# Criar uma variável lista\n",
        "tipo_de_produtos = []\n",
        "# Laço de repetião para iterar pela coluna Produto e adicionar cada item a lista.\n",
        "for produto in loja3['Produto']:\n",
        "  if produto not in tipo_de_produtos:\n",
        "    tipo_de_produtos.append(produto)\n",
        "\n",
        "# Criar uma variável dicionário\n",
        "produtos_vendidos3 = {}\n",
        "# Laço de repetição para iterar sobre os tipos de produtos e de acordo com o tipo, trazer o valor total de vendas por produto.\n",
        "for produto in range(len(tipo_de_produtos)):\n",
        "  for i in range(len(loja3['Produto'])):\n",
        "    if tipo_de_produtos[produto] == loja3['Produto'][i]:\n",
        "      produtos_vendidos3[tipo_de_produtos[produto]] = produtos_vendidos3.get(tipo_de_produtos[produto], 0) + 1\n",
        "\n",
        "# Para ordenar de forma simples, transforma dicionário em lista\n",
        "lista_produtos3 = list(produtos_vendidos3.items())\n",
        "n = len(lista_produtos3)\n",
        "# Ordenação pelo algoritmo BubbleSort\n",
        "for i in range(n):\n",
        "  for j in range(0, n - i - 1):\n",
        "    if lista_produtos3[j][1] < lista_produtos3[j + 1][1]:\n",
        "      lista_produtos3[j], lista_produtos3[j + 1] = lista_produtos3[j + 1], lista_produtos3[j]\n",
        "\n",
        "# Exibir resultado\n",
        "print('Prudutos vendidos pela loja 3 em ordem crescente:')\n",
        "lista_produtos3"
      ],
      "metadata": {
        "colab": {
          "base_uri": "https://localhost:8080/"
        },
        "id": "BPE4lbdhjZwC",
        "outputId": "7923c1b9-64f3-4a83-8076-44269515884f"
      },
      "execution_count": 110,
      "outputs": [
        {
          "output_type": "stream",
          "name": "stdout",
          "text": [
            "Prudutos vendidos pela loja 3 em ordem crescente:\n"
          ]
        },
        {
          "output_type": "execute_result",
          "data": {
            "text/plain": [
              "[('Kit banquetas', 57),\n",
              " ('Mesa de jantar', 56),\n",
              " ('Cama king', 56),\n",
              " ('Cômoda', 55),\n",
              " ('Jogo de panelas', 55),\n",
              " ('Smart TV', 54),\n",
              " ('Modelagem preditiva', 53),\n",
              " ('Corda de pular', 53),\n",
              " ('Fogão', 53),\n",
              " ('Carrinho controle remoto', 52),\n",
              " ('Bicicleta', 52),\n",
              " ('Lava louças', 52),\n",
              " ('Jogo de tabuleiro', 52),\n",
              " ('Pandeiro', 51),\n",
              " ('Impressora', 50),\n",
              " ('Bola de basquete', 50),\n",
              " ('Geladeira', 50),\n",
              " ('Guarda roupas', 49),\n",
              " ('Bola de vôlei', 48),\n",
              " ('Tablet ABXY', 48),\n",
              " ('Violão', 47),\n",
              " ('Panela de pressão', 47),\n",
              " ('Xadrez de madeira', 47),\n",
              " ('Poltrona', 47),\n",
              " ('Cadeira de escritório', 46),\n",
              " ('Dinossauro Rex', 46),\n",
              " ('Iniciando em programação', 46),\n",
              " ('Cama box', 46),\n",
              " ('Celular Plus X42', 46),\n",
              " ('Smartwatch', 46),\n",
              " ('Ciência de dados com python', 46),\n",
              " ('Secadora de roupas', 45),\n",
              " ('Sofá retrátil', 45),\n",
              " ('Celular ABXY', 44),\n",
              " ('Cubo mágico 8x8', 44),\n",
              " ('Fone de ouvido', 43),\n",
              " ('TV Led UHD 4K', 42),\n",
              " ('Lavadora de roupas', 42),\n",
              " ('Mesa de centro', 42),\n",
              " ('Bateria', 41),\n",
              " ('Dashboards com Power BI', 40),\n",
              " ('Faqueiro', 39),\n",
              " ('Boneca bebê', 39),\n",
              " ('Headset', 39),\n",
              " ('Assistente virtual', 39),\n",
              " ('Guitarra', 38),\n",
              " ('Copo térmico', 38),\n",
              " ('Jogo de copos', 36),\n",
              " ('Mochila', 36),\n",
              " ('Micro-ondas', 36),\n",
              " ('Blocos de montar', 35)]"
            ]
          },
          "metadata": {},
          "execution_count": 110
        }
      ]
    },
    {
      "cell_type": "code",
      "source": [
        "# Criar uma variável lista\n",
        "tipo_de_produtos = []\n",
        "# Laço de repetião para iterar pela coluna Produto e adicionar cada item a lista.\n",
        "for produto in loja4['Produto']:\n",
        "  if produto not in tipo_de_produtos:\n",
        "    tipo_de_produtos.append(produto)\n",
        "\n",
        "# Criar uma variável dicionário\n",
        "produtos_vendidos4 = {}\n",
        "# Laço de repetição para iterar sobre os tipos de produtos e de acordo com o tipo, trazer o valor total de vendas por produto.\n",
        "for produto in range(len(tipo_de_produtos)):\n",
        "  for i in range(len(loja4['Produto'])):\n",
        "    if tipo_de_produtos[produto] == loja4['Produto'][i]:\n",
        "      produtos_vendidos4[tipo_de_produtos[produto]] = produtos_vendidos4.get(tipo_de_produtos[produto], 0) + 1\n",
        "\n",
        "# Para ordenar de forma simples, transforma dicionário em lista\n",
        "lista_produtos4 = list(produtos_vendidos4.items())\n",
        "n = len(lista_produtos4)\n",
        "# Ordenação pelo algoritmo BubbleSort\n",
        "for i in range(n):\n",
        "  for j in range(0, n - i - 1):\n",
        "    if lista_produtos4[j][1] < lista_produtos4[j + 1][1]:\n",
        "      lista_produtos4[j], lista_produtos4[j + 1] = lista_produtos4[j + 1], lista_produtos4[j]\n",
        "\n",
        "# Exibir resultado\n",
        "print('Prudutos vendidos pela loja 4 em ordem crescente:')\n",
        "lista_produtos4"
      ],
      "metadata": {
        "colab": {
          "base_uri": "https://localhost:8080/"
        },
        "id": "q_PciW-6STKI",
        "outputId": "ecd52fc6-c88d-45b0-e7bd-e49166ec80ea"
      },
      "execution_count": 111,
      "outputs": [
        {
          "output_type": "stream",
          "name": "stdout",
          "text": [
            "Prudutos vendidos pela loja 4 em ordem crescente:\n"
          ]
        },
        {
          "output_type": "execute_result",
          "data": {
            "text/plain": [
              "[('Cama box', 62),\n",
              " ('Faqueiro', 59),\n",
              " ('Dashboards com Power BI', 56),\n",
              " ('Cama king', 56),\n",
              " ('Cômoda', 55),\n",
              " ('Mesa de jantar', 55),\n",
              " ('Carrinho controle remoto', 55),\n",
              " ('Smart TV', 54),\n",
              " ('Blocos de montar', 54),\n",
              " ('Pandeiro', 52),\n",
              " ('Bola de basquete', 50),\n",
              " ('Modelagem preditiva', 50),\n",
              " ('Impressora', 50),\n",
              " ('Assistente virtual', 50),\n",
              " ('Jogo de panelas', 50),\n",
              " ('Celular Plus X42', 48),\n",
              " ('Boneca bebê', 48),\n",
              " ('Bola de vôlei', 48),\n",
              " ('Copo térmico', 48),\n",
              " ('Bateria', 48),\n",
              " ('Jogo de tabuleiro', 48),\n",
              " ('Micro-ondas', 48),\n",
              " ('Fogão', 47),\n",
              " ('Dinossauro Rex', 47),\n",
              " ('Cubo mágico 8x8', 47),\n",
              " ('Sofá retrátil', 47),\n",
              " ('Jogo de copos', 46),\n",
              " ('Panela de pressão', 46),\n",
              " ('Tablet ABXY', 45),\n",
              " ('Bicicleta', 45),\n",
              " ('Poltrona', 45),\n",
              " ('Fone de ouvido', 44),\n",
              " ('Mesa de centro', 44),\n",
              " ('Lava louças', 43),\n",
              " ('Corda de pular', 43),\n",
              " ('Iniciando em programação', 43),\n",
              " ('Mochila', 43),\n",
              " ('Headset', 42),\n",
              " ('Kit banquetas', 42),\n",
              " ('Cadeira de escritório', 40),\n",
              " ('Secadora de roupas', 40),\n",
              " ('TV Led UHD 4K', 40),\n",
              " ('Celular ABXY', 39),\n",
              " ('Xadrez de madeira', 39),\n",
              " ('Smartwatch', 39),\n",
              " ('Geladeira', 38),\n",
              " ('Lavadora de roupas', 38),\n",
              " ('Ciência de dados com python', 38),\n",
              " ('Violão', 37),\n",
              " ('Guarda roupas', 34),\n",
              " ('Guitarra', 33)]"
            ]
          },
          "metadata": {},
          "execution_count": 111
        }
      ]
    },
    {
      "cell_type": "markdown",
      "source": [
        "# 5. Frete Médio por Loja\n"
      ],
      "metadata": {
        "id": "Fl0cGi3bZKqU"
      }
    },
    {
      "cell_type": "code",
      "source": [
        "# Criar uma lista que guarde os valores da coluna frete\n",
        "frete_medio = []\n",
        "# Usa laço de repetição, para percorrer todos os dados da coluna frete\n",
        "for frete in loja['Frete']:\n",
        "  frete_medio.append(frete)\n",
        "# Criar uma váriavel que receba a soma de todos os valores da lista e divide pelo tamanho da lista\n",
        "frete1 = sum(frete_medio)/len(frete_medio)\n",
        "# Exibir Frete médio\n",
        "frete1"
      ],
      "metadata": {
        "id": "S2JeaCykZNy9",
        "colab": {
          "base_uri": "https://localhost:8080/"
        },
        "outputId": "e5ebdf61-3583-44a8-f229-ac0861c35241"
      },
      "execution_count": 112,
      "outputs": [
        {
          "output_type": "execute_result",
          "data": {
            "text/plain": [
              "34.6918049155114"
            ]
          },
          "metadata": {},
          "execution_count": 112
        }
      ]
    },
    {
      "cell_type": "code",
      "source": [
        "# Criar uma lista que guarde os valores da coluna frete\n",
        "frete_medio2 = []\n",
        "# Usa laço de repetição, para percorrer todos os dados da coluna frete\n",
        "for frete in loja2['Frete']:\n",
        "  frete_medio2.append(frete)\n",
        "# Criar uma váriavel que receba a soma de todos os valores da lista e divide pelo tamanho da lista\n",
        "frete2 = sum(frete_medio2)/len(frete_medio2)\n",
        "# Exibir Frete médio\n",
        "frete2"
      ],
      "metadata": {
        "colab": {
          "base_uri": "https://localhost:8080/"
        },
        "id": "8jDfA3wAkWud",
        "outputId": "e5b0edaa-6ca4-4629-f126-09f48ca35de5"
      },
      "execution_count": 113,
      "outputs": [
        {
          "output_type": "execute_result",
          "data": {
            "text/plain": [
              "33.62194065817933"
            ]
          },
          "metadata": {},
          "execution_count": 113
        }
      ]
    },
    {
      "cell_type": "code",
      "source": [
        "# Criar uma lista que guarde os valores da coluna frete\n",
        "frete_medio3 = []\n",
        "# Usa laço de repetição, para percorrer todos os dados da coluna frete\n",
        "for frete in loja3['Frete']:\n",
        "  frete_medio3.append(frete)\n",
        "# Criar uma váriavel que receba a soma de todos os valores da lista e divide pelo tamanho da lista\n",
        "frete3 = sum(frete_medio3)/len(frete_medio3)\n",
        "# Exibir Frete médio\n",
        "frete3"
      ],
      "metadata": {
        "colab": {
          "base_uri": "https://localhost:8080/"
        },
        "id": "jxfSeTPukXBF",
        "outputId": "e80f4076-f0e0-46a9-b3ef-2c4313c21e18"
      },
      "execution_count": 114,
      "outputs": [
        {
          "output_type": "execute_result",
          "data": {
            "text/plain": [
              "33.074464274117446"
            ]
          },
          "metadata": {},
          "execution_count": 114
        }
      ]
    },
    {
      "cell_type": "code",
      "source": [
        "# Criar uma lista que guarde os valores da coluna frete\n",
        "frete_medio4 = []\n",
        "# Usa laço de repetição, para percorrer todos os dados da coluna frete\n",
        "for frete in loja4['Frete']:\n",
        "  frete_medio4.append(frete)\n",
        "# Criar uma váriavel que receba a soma de todos os valores da lista e divide pelo tamanho da lista\n",
        "frete4 = sum(frete_medio4)/len(frete_medio4)\n",
        "# Exibir Frete médio\n",
        "frete4"
      ],
      "metadata": {
        "id": "0tSdCie9ZQlt",
        "colab": {
          "base_uri": "https://localhost:8080/"
        },
        "outputId": "bb0a6e69-2a56-45ba-8d14-f07fc10c49f2"
      },
      "execution_count": 115,
      "outputs": [
        {
          "output_type": "execute_result",
          "data": {
            "text/plain": [
              "31.27899708184175"
            ]
          },
          "metadata": {},
          "execution_count": 115
        }
      ]
    },
    {
      "cell_type": "code",
      "source": [
        "# Dados\n",
        "freteMedio = [frete1, frete2, frete3, frete4]\n",
        "empresas = ['Loja 1', 'Loja 2', 'Loja 3', 'Loja 4']\n",
        "cores = ['blue', 'green', 'red', 'yellow']\n",
        "\n",
        "# Loja com maior indicador\n",
        "maior_frete = max(freteMedio)\n",
        "indice_maior = freteMedio.index(maior_frete)\n",
        "print(f'A loja com maior frete médio é: {empresas[indice_maior]} ({maior_frete:.2f})')\n",
        "\n",
        "# Loja com menor indicador\n",
        "menor_frete = min(freteMedio)\n",
        "indice_menor = freteMedio.index(menor_frete)\n",
        "print(f'A loja com menor frete médio é: {empresas[indice_menor]} ({menor_frete:.2f})')\n",
        "\n",
        "# Criar gráficos ordenados para exibição de resultados\n",
        "fig, axs = plt.subplots(nrows=1, ncols=3, figsize=(18, 5))\n",
        "\n",
        "\n",
        "# Gráfico\n",
        "axs[0].bar(empresas, freteMedio, color=cores)\n",
        "axs[0].set_title('Frete médio de João com suas lojas')\n",
        "axs[0].set_xlabel('Frete')\n",
        "axs[0].set_ylabel('Lojas')\n",
        "\n",
        "# Gráfico\n",
        "axs[1].barh(empresas, freteMedio, color=cores)\n",
        "axs[1].set_title('Frete médio de João com suas lojas')\n",
        "axs[1].set_xlabel('Frete')\n",
        "axs[1].set_ylabel('Lojas')\n",
        "\n",
        "# Gráfico\n",
        "axs[2].pie(freteMedio, labels=empresas, colors=cores, autopct='%1.1f%%', startangle=90)\n",
        "axs[2].set_title('Participação do frete médio das lojas')\n",
        "axs[2].axis('equal')\n",
        "\n",
        "plt.tight_layout()\n",
        "plt.show()"
      ],
      "metadata": {
        "colab": {
          "base_uri": "https://localhost:8080/",
          "height": 353
        },
        "id": "LcmuGSCZREgv",
        "outputId": "5e112f14-c3e6-406f-f68f-8cfef168fbac"
      },
      "execution_count": 116,
      "outputs": [
        {
          "output_type": "stream",
          "name": "stdout",
          "text": [
            "A loja com maior frete médio é: Loja 1 (34.69)\n",
            "A loja com menor frete médio é: Loja 4 (31.28)\n"
          ]
        },
        {
          "output_type": "display_data",
          "data": {
            "text/plain": [
              "<Figure size 1800x500 with 3 Axes>"
            ],
            "image/png": "[encoded data removed]"
          },
          "metadata": {}
        }
      ]
    },
    {
      "cell_type": "markdown",
      "source": [
        "Analise de indicadores"
      ],
      "metadata": {
        "id": "LSY9HtQzRRFT"
      }
    },
    {
      "cell_type": "code",
      "source": [
        "vendas_total = [sum(vendas_total1), sum(vendas_total2), sum(vendas_total3), sum(vendas_total4)]\n",
        "fb = sum(fatura_bruto)\n",
        "sat = sum(m_s_lojas)\n",
        "fm = sum(freteMedio)\n",
        "vt = sum(vendas_total1 + vendas_total2 + vendas_total3 + vendas_total4)\n",
        "print(freteMedio)\n",
        "print(vendas_total)\n",
        "print(m_s_lojas)\n",
        "print(fatura_bruto)\n",
        "print(fb, sat, fm, vt)"
      ],
      "metadata": {
        "id": "PzNxTFqu0Sct",
        "colab": {
          "base_uri": "https://localhost:8080/"
        },
        "outputId": "42b2cd27-4b76-4f7a-896a-2f086af3bb48"
      },
      "execution_count": 117,
      "outputs": [
        {
          "output_type": "stream",
          "name": "stdout",
          "text": [
            "[34.6918049155114, 33.62194065817933, 33.074464274117446, 31.27899708184175]\n",
            "[2359, 2359, 2359, 2358]\n",
            "[3.9665833898174245, 4.035530628659918, 4.044860279975908, 3.992564427244854]\n",
            "[1534509.120000001, 1488459.059999997, 1464025.0300000003, 1384497.5800000026]\n",
            "5871490.790000001 16.039538725698105 132.66720692964992 9435\n"
          ]
        }
      ]
    },
    {
      "cell_type": "code",
      "source": [
        "# Fórmula para receber indicação das lojas mais e menos eficientes, onde há pesos para cada uma, sendo 0.4, 0.3 e 0.2 métricas boas e 1.0 ineficiente para gerar um resultado formidável.\n",
        "eficiencia_lojas = []\n",
        "for i in range(4):\n",
        "  eficiencia = (\n",
        "   0.4 * (fatura_bruto[i]/ fb) +\n",
        "    0.3 * (m_s_lojas[i] / sat) +\n",
        "    0.2 * (vendas_total[i] / vt)\n",
        "    - 0.1 * (freteMedio[i]) / fm)\n",
        "  eficiencia_lojas.append(eficiencia)\n",
        "print(eficiencia_lojas)\n",
        "\n",
        "# Criar gráficos ordenados para exibição de resultados\n",
        "fig, axs = plt.subplots(nrows=1, ncols=3, figsize=(18, 5))\n",
        "\n",
        "# Gráfico\n",
        "axs[0].bar(empresas, eficiencia_lojas, color=cores)\n",
        "axs[0].set_title('Eficiência das lojas')\n",
        "axs[0].set_xlabel('Lojas')\n",
        "axs[0].set_ylabel('Eficiência')\n",
        "\n",
        "# Gráfico\n",
        "axs[1].barh(empresas, eficiencia_lojas, color=cores)\n",
        "axs[1].set_title('Eficiência das lojas')\n",
        "axs[1].set_xlabel('Eficiência')\n",
        "axs[1].set_ylabel('Lojas')\n",
        "\n",
        "# Gráfico\n",
        "axs[2].pie(eficiencia_lojas, labels=empresas, colors=cores, autopct='%1.1f%%', startangle=90)\n",
        "axs[2].set_title('Participação da eficiência das lojas')\n",
        "axs[2].axis('equal')\n",
        "\n",
        "plt.tight_layout()\n",
        "plt.show()\n"
      ],
      "metadata": {
        "colab": {
          "base_uri": "https://localhost:8080/",
          "height": 335
        },
        "id": "4CkGQYAr_1hI",
        "outputId": "03782c58-544a-4b47-dfe9-df9de1fc9a45"
      },
      "execution_count": 118,
      "outputs": [
        {
          "output_type": "stream",
          "name": "stdout",
          "text": [
            "[0.20258556589883106, 0.20154436981024285, 0.20046695070379522, 0.19540311358713086]\n"
          ]
        },
        {
          "output_type": "display_data",
          "data": {
            "text/plain": [
              "<Figure size 1800x500 with 3 Axes>"
            ],
            "image/png": "[encoded data removed]"
          },
          "metadata": {}
        }
      ]
    },
    {
      "cell_type": "markdown",
      "source": [],
      "metadata": {
        "id": "_L1o_-B2x_ZA"
      }
    },
    {
      "cell_type": "markdown",
      "source": [
        "# **Relatório**"
      ],
      "metadata": {
        "id": "xqHV_uA0yDJp"
      }
    },
    {
      "cell_type": "markdown",
      "source": [
        "**Relatório de Análise de Dados**\n",
        "\n",
        "*Olá, Sr. João, tudo bem?*\n",
        "\n",
        "*Dentre seus empreendimentos, após uma análise bem cuidadosa, tenho a conclusão que, a loja 4 é a menos eficiente entre as quatro, pois,\n",
        "mesmo apresentando o menor custo com frete médio : 31.28, além de uma média de satisafação boa: 3.99, ela não consegue gerar um faturamento condizente com essa realidade, e, mesmo que minímo, tem um volume de vendas menor que as demais lojas.*"
      ],
      "metadata": {
        "id": "VtMsp37q6ibQ"
      }
    }
  ]
}